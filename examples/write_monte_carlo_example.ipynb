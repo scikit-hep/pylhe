{
 "cells": [
  {
   "cell_type": "markdown",
   "id": "f40b7065-5763-4abc-91ff-40437cf86517",
   "metadata": {},
   "source": [
    "# Simple $e^+e^- \\to \\mu^+ \\mu^- $ Monte Carlo Event Generator example"
   ]
  },
  {
   "cell_type": "markdown",
   "id": "215df39b-69fc-4f74-b882-3c96f5526783",
   "metadata": {},
   "source": [
    "Differential cross section:\n",
    "$$\n",
    "\\frac{d \\sigma}{ d \\Omega} = \\frac{\\alpha^2}{4 s } ( 1+ \\cos^2(\\theta))\n",
    "$$"
   ]
  },
  {
   "cell_type": "code",
   "execution_count": 1,
   "id": "f7124c5f-9f86-4a0a-ac08-6e30cc55e01d",
   "metadata": {},
   "outputs": [],
   "source": [
    "import math\n",
    "import random\n",
    "\n",
    "import hist\n",
    "import numpy as np\n",
    "\n",
    "import pylhe"
   ]
  },
  {
   "cell_type": "code",
   "execution_count": 2,
   "id": "f2553a00-1d72-4d4b-ba6d-c552ca0a7b59",
   "metadata": {},
   "outputs": [],
   "source": [
    "alpha = 1 / 127.4  # alpha QED\n",
    "aqcd = 0.1075  # alpha QCD\n",
    "EB = 209\n",
    "s = (2 * EB) ** 2\n",
    "theta_min = 0\n",
    "theta_max = math.pi\n",
    "phi_min = 0\n",
    "phi_max = 2 * math.pi"
   ]
  },
  {
   "cell_type": "code",
   "execution_count": 3,
   "id": "7242869e-7fbb-4eee-9d49-8a9d63724e35",
   "metadata": {},
   "outputs": [],
   "source": [
    "# https://equation-database.readthedocs.io/en/latest/_autosummary/equation_database.isbn_9780471887416.html#equation_database.isbn_9780471887416.equation_6_32\n",
    "\n",
    "\n",
    "def dsigma(s, theta, _phi):\n",
    "    return (math.cos(theta) ** 2 + 1) / 4 * alpha**2 / s"
   ]
  },
  {
   "cell_type": "code",
   "execution_count": 4,
   "id": "147dfe17-a5d9-4b68-a07f-6f8d8aa390a1",
   "metadata": {},
   "outputs": [
    {
     "name": "stdout",
     "output_type": "stream",
     "text": [
      "Estimated integral: 1.4754509417439252e-09\n",
      "Real integral:      1.477056777521761e-09\n"
     ]
    }
   ],
   "source": [
    "# Monte Carlo integration\n",
    "\n",
    "\n",
    "def monte_carlo_integration(\n",
    "    func, s, theta_min, theta_max, phi_min, phi_max, num_samples\n",
    "):\n",
    "    theta_samples = [random.uniform(theta_min, theta_max) for _ in range(num_samples)]\n",
    "    phi_samples = [random.uniform(phi_min, phi_max) for _ in range(num_samples)]\n",
    "    func_values = [\n",
    "        (phi_max - phi_min)\n",
    "        * (theta_max - theta_min)\n",
    "        * func(s, theta, phi)\n",
    "        * math.sin(theta)\n",
    "        for theta, phi in zip(theta_samples, phi_samples)\n",
    "    ]\n",
    "    maximum = np.max(func_values)\n",
    "    integral = np.mean(func_values)\n",
    "    return integral, maximum\n",
    "\n",
    "\n",
    "# Parameters\n",
    "\n",
    "num_samples = 100000\n",
    "\n",
    "# Perform integration\n",
    "result, maximum = monte_carlo_integration(\n",
    "    dsigma, s, theta_min, theta_max, phi_min, phi_max, num_samples\n",
    ")\n",
    "print(f\"Estimated integral: {result}\")\n",
    "\n",
    "# https://equation-database.readthedocs.io/en/latest/_autosummary/equation_database.isbn_9780471887416.html#equation_database.isbn_9780471887416.equation_6_33\n",
    "sigma = 4 * math.pi / 3 * alpha**2 / s\n",
    "print(f\"Real integral:      {sigma}\")"
   ]
  },
  {
   "cell_type": "markdown",
   "id": "692b7fad-a519-49b8-9dbc-d7d8c27eaba9",
   "metadata": {},
   "source": [
    "## Weighted Events\n",
    "\n",
    "The information about the distribution is carried by the weights of the events."
   ]
  },
  {
   "cell_type": "code",
   "execution_count": 5,
   "id": "5c26e5e3-8e1e-470f-96a6-376a6e294bf9",
   "metadata": {},
   "outputs": [
    {
     "name": "stdout",
     "output_type": "stream",
     "text": [
      "<LesHouchesEvents version=\"3\">\n",
      "<init>\n",
      "     11    -11  2.0900000e+02  2.0900000e+02     0     0     0     0     3     1\n",
      " 1.4771353e-09  0.0000000e+00  1.0000000e+00     1\n",
      "<initrwgt /></init>\n",
      "<event>\n",
      "  5      0  1.8016087366e-14  1.7472400000e+05  7.8492935636e-03  1.0750000000e-01\n",
      "   11  -1   0   0   0   0  0.00000000e+00  0.00000000e+00  2.09000000e+02  2.09000000e+02  0.00000000e+00  0.0000e+00  9.0000e+00\n",
      "  -11  -1   0   0   0   0  0.00000000e+00  0.00000000e+00 -2.09000000e+02  2.09000000e+02  0.00000000e+00  0.0000e+00  9.0000e+00\n",
      "   22   2   1   2   0   0  0.00000000e+00  0.00000000e+00  0.00000000e+00  4.18000000e+02  0.00000000e+00  0.0000e+00  9.0000e+00\n",
      "   13   1   3   3   0   0 -1.38387129e+02  1.07584317e+01  1.56250628e+02  2.09000000e+02  0.00000000e+00  0.0000e+00  9.0000e+00\n",
      "  -13   1   3   3   0   0  1.38387129e+02 -1.07584317e+01 -1.56250628e+02  2.09000000e+02  0.00000000e+00  0.0000e+00  9.0000e+00\n",
      "</event>\n",
      "<event>\n",
      "  5      0  1.7510236083e-14  1.7472400000e+05  7.8492935636e-03  1.0750000000e-01\n",
      "   11  -1   0   0   0   0  0.00000000e+00  0.00000000e+00  2.09000000e+02  2.09000000e+02  0.00000000e+00  0.0000e+00  9.0000e+00\n",
      "  -11  -1   0   0   0   0  0.00000000e+00  0.00000000e+00 -2.09000000e+02  2.09000000e+02  0.00000000e+00  0.0000e+00  9.0000e+00\n",
      "   22   2   1   2   0   0  0.00000000e+00  0.00000000e+00  0.00000000e+00  4.18000000e+02  0.00000000e+00  0.0000e+00  9.0000e+00\n",
      "   13   1   3   3   0   0 -8.78967829e+01 -1.88145350e+02  2.35898873e+01  2.09000000e+02  0.00000000e+00  0.0000e+00  9.0000e+00\n",
      "  -13   1   3   3   0   0  8.78967829e+01  1.88145350e+02 -2.35898873e+01  2.09000000e+02  0.00000000e+00  0.0000e+00  9.0000e+00\n",
      "</event>\n",
      "<event>\n",
      "  5      0  1.7409704943e-14  1.7472400000e+05  7.8492935636e-03  1.0750000000e-01\n",
      "   11  -1   0   0   0   0  0.00000000e+00  0.00000000e+00  2.09000000e+02  2.09000000e+02  0.00000000e+00  0.0000e+00  9.0000e+00\n",
      "  -11  -1   0   0   0   0  0.00000000e+00  0.00000000e+00 -2.09000000e+02  2.09000000e+02  0.00000000e+00  0.0000e+00  9.0000e+00\n",
      "   22   2   1   2   0   0  0.00000000e+00  0.00000000e+00  0.00000000e+00  4.18000000e+02  0.00000000e+00  0.0000e+00  9.0000e+00\n",
      "   13   1   3   3   0   0  2.08732993e+02  8.28318886e+00 -6.55181141e+00  2.09000000e+02  0.00000000e+00  0.0000e+00  9.0000e+00\n",
      "  -13   1   3   3   0   0 -2.08732993e+02 -8.28318886e+00  6.55181141e+00  2.09000000e+02  0.00000000e+00  0.0000e+00  9.0000e+00\n",
      "</event>\n",
      "</LesHouchesEvents>\n"
     ]
    }
   ],
   "source": [
    "num_samples = 100000\n",
    "integ = 0.0\n",
    "lheevents = []\n",
    "for _i in range(num_samples):\n",
    "    theta = random.uniform(theta_min, theta_max)\n",
    "    phi = random.uniform(phi_min, phi_max)\n",
    "    sig = (\n",
    "        (phi_max - phi_min)\n",
    "        * (theta_max - theta_min)\n",
    "        * dsigma(s, theta, phi)\n",
    "        * math.sin(theta)\n",
    "        / num_samples\n",
    "    )\n",
    "    integ += sig\n",
    "    # Fill the LHE event\n",
    "    e = pylhe.LHEEvent(\n",
    "        eventinfo=pylhe.LHEEventInfo(\n",
    "            nparticles=5,\n",
    "            pid=0,\n",
    "            weight=sig,  # The individual weight per event\n",
    "            scale=s,\n",
    "            aqed=alpha,\n",
    "            aqcd=aqcd,\n",
    "        ),\n",
    "        particles=[\n",
    "            pylhe.LHEParticle(\n",
    "                id=11,\n",
    "                status=-1,\n",
    "                mother1=0,\n",
    "                mother2=0,\n",
    "                color1=0,\n",
    "                color2=0,\n",
    "                px=0.0,\n",
    "                py=0.0,\n",
    "                pz=EB,\n",
    "                e=EB,\n",
    "                m=0.0,\n",
    "                lifetime=0,\n",
    "                spin=9.0,\n",
    "            ),\n",
    "            pylhe.LHEParticle(\n",
    "                id=-11,\n",
    "                status=-1,\n",
    "                mother1=0,\n",
    "                mother2=0,\n",
    "                color1=0,\n",
    "                color2=0,\n",
    "                px=0.0,\n",
    "                py=0.0,\n",
    "                pz=-EB,\n",
    "                e=EB,\n",
    "                m=0.0,\n",
    "                lifetime=0,\n",
    "                spin=9.0,\n",
    "            ),\n",
    "            pylhe.LHEParticle(\n",
    "                id=22,\n",
    "                status=2,\n",
    "                mother1=1,\n",
    "                mother2=2,\n",
    "                color1=0,\n",
    "                color2=0,\n",
    "                px=0.0,\n",
    "                py=0.0,\n",
    "                pz=EB - EB,\n",
    "                e=EB + EB,\n",
    "                m=0.0,\n",
    "                lifetime=0,\n",
    "                spin=9.0,\n",
    "            ),\n",
    "            pylhe.LHEParticle(\n",
    "                id=13,\n",
    "                status=1,\n",
    "                mother1=3,\n",
    "                mother2=3,\n",
    "                color1=0,\n",
    "                color2=0,\n",
    "                px=EB * math.sin(theta) * math.cos(phi),\n",
    "                py=EB * math.sin(theta) * math.sin(phi),\n",
    "                pz=EB * math.cos(theta),\n",
    "                e=EB,\n",
    "                m=0,\n",
    "                lifetime=0,\n",
    "                spin=9.0,\n",
    "            ),\n",
    "            pylhe.LHEParticle(\n",
    "                id=-13,\n",
    "                status=1,\n",
    "                mother1=3,\n",
    "                mother2=3,\n",
    "                color1=0,\n",
    "                color2=0,\n",
    "                px=-EB * math.sin(theta) * math.cos(phi),\n",
    "                py=-EB * math.sin(theta) * math.sin(phi),\n",
    "                pz=-EB * math.cos(theta),\n",
    "                e=EB,\n",
    "                m=0,\n",
    "                lifetime=0,\n",
    "                spin=9.0,\n",
    "            ),\n",
    "        ],\n",
    "    )\n",
    "    lheevents.append(e)\n",
    "# Fill the LHE init\n",
    "lheinit = pylhe.LHEInit(\n",
    "    initInfo=pylhe.LHEInitInfo(\n",
    "        beamA=11,\n",
    "        beamB=-11,\n",
    "        energyA=EB,\n",
    "        energyB=EB,\n",
    "        PDFgroupA=0,\n",
    "        PDFgroupB=0,\n",
    "        PDFsetA=0,\n",
    "        PDFsetB=0,\n",
    "        weightingStrategy=3,\n",
    "        numProcesses=1,\n",
    "    ),\n",
    "    procInfo=[\n",
    "        pylhe.LHEProcInfo(\n",
    "            xSection=integ,\n",
    "            error=0,\n",
    "            unitWeight=1,\n",
    "            procId=1,\n",
    "        )\n",
    "    ],\n",
    "    weightgroup={},\n",
    "    LHEVersion=3,\n",
    ")\n",
    "print(pylhe.write_lhe_string(lheinit, lheevents[0:3], rwgt=False, weights=False))\n",
    "pylhe.write_lhe_file(\n",
    "    lheinit, lheevents, filepath=\"weighted.lhe.gz\", rwgt=False, weights=False\n",
    ")"
   ]
  },
  {
   "cell_type": "code",
   "execution_count": null,
   "id": "2fca49b0-2d93-476a-9b6b-835b72a24bb0",
   "metadata": {},
   "outputs": [],
   "source": []
  },
  {
   "cell_type": "code",
   "execution_count": 6,
   "id": "c94b9451-e7cc-4f40-9c1e-63dd8e180595",
   "metadata": {},
   "outputs": [
    {
     "data": {
      "text/html": [
       "<html>\n",
       "<div style=\"display:flex; align-items:center;\">\n",
       "<div style=\"width:290px;\">\n",
       "<svg xmlns=\"http://www.w3.org/2000/svg\" viewBox=\"-10 -105 270 120\">\n",
       "<line x1=\"-5\" y1=\"0\" x2=\"255\" y2=\"0\" style=\"fill:none;stroke-width:2;stroke:currentColor\"/>\n",
       "<text text-anchor=\"middle\" x=\"0\" y=\"15\" style=\"fill:currentColor;\">\n",
       "0\n",
       "</text>\n",
       "<text text-anchor=\"middle\" x=\"250\" y=\"15\" style=\"fill:currentColor;\">\n",
       "3.14\n",
       "</text>\n",
       "<text text-anchor=\"middle\" x=\"125.0\" y=\"15\" style=\"fill:currentColor;\">\n",
       "Axis 0\n",
       "</text>\n",
       "<polyline points=\"  0,0   0,-14.5 12.5,-14.5 12.5,-41  25,-41  25,-63.5 37.5,-63.5 37.5,-83.6  50,-83.6  50,-93.1 62.5,-93.1 62.5,-95  75,-95  75,-100 87.5,-100 87.5,-94.9 100,-94.9 100,-95.2 112.5,-95.2 112.5,-92.1 125,-92.1 125,-91.8 137.5,-91.8 137.5,-92.4 150,-92.4 150,-96.4 162.5,-96.4 162.5,-99.8 175,-99.8 175,-98.8 187.5,-98.8 187.5,-94.9 200,-94.9 200,-82.5 212.5,-82.5 212.5,-65.4 225,-65.4 225,-40.6 237.5,-40.6 237.5,-14 250,-14 250,0\" style=\"fill:none; stroke:currentColor;\"/>\n",
       "</svg>\n",
       "</div>\n",
       "<div style=\"flex=grow:1;\">\n",
       "Regular(20, 0, 3.14159, label='Axis 0')<br/>\n",
       "<hr style=\"margin-top:.2em; margin-bottom:.2em;\"/>\n",
       "Weight() Σ=WeightedSum(value=1.47714e-09, variance=2.46058e-23)\n",
       "\n",
       "</div>\n",
       "</div>\n",
       "</html>"
      ],
      "text/plain": [
       "Hist(Regular(20, 0, 3.14159, label='Axis 0'), storage=Weight()) # Sum: WeightedSum(value=1.47714e-09, variance=2.46058e-23)"
      ]
     },
     "execution_count": 6,
     "metadata": {},
     "output_type": "execute_result"
    }
   ],
   "source": [
    "arr = pylhe.to_awkward(pylhe.read_lhe_with_attributes(\"weighted.lhe.gz\"))\n",
    "hist1 = hist.Hist.new.Reg(20, 0, math.pi).Weight()\n",
    "hist1.fill(arr.particles.vector[:, -1].theta, weight=arr.eventinfo.weight)"
   ]
  },
  {
   "cell_type": "code",
   "execution_count": 7,
   "id": "b43498cd-1fe7-49c1-a24c-5b66cf4e257f",
   "metadata": {},
   "outputs": [
    {
     "data": {
      "text/plain": [
       "[StairsArtists(stairs=<matplotlib.patches.StepPatch object at 0x7f6922d78c20>, errorbar=<ErrorbarContainer object of 3 artists>, legend_artist=<ErrorbarContainer object of 3 artists>)]"
      ]
     },
     "execution_count": 7,
     "metadata": {},
     "output_type": "execute_result"
    },
    {
     "data": {
      "image/png": "[encoded data removed]",
      "text/plain": [
       "<Figure size 640x480 with 1 Axes>"
      ]
     },
     "metadata": {},
     "output_type": "display_data"
    }
   ],
   "source": [
    "hist1.plot()"
   ]
  },
  {
   "cell_type": "markdown",
   "id": "77d19d7a-07c7-4da3-81c6-31e716f3b15d",
   "metadata": {},
   "source": [
    "## Unweighted Events\n",
    "\n",
    "The information about the distribution is carried by the distribution/number of the events."
   ]
  },
  {
   "cell_type": "code",
   "execution_count": 8,
   "id": "a43da3e7-5263-4557-8024-cb08ae00f01b",
   "metadata": {},
   "outputs": [
    {
     "name": "stdout",
     "output_type": "stream",
     "text": [
      "<LesHouchesEvents version=\"3\">\n",
      "<init>\n",
      "     11    -11  2.0900000e+02  2.0900000e+02     0     0     0     0     3     1\n",
      " 1.4754509e-09  0.0000000e+00  1.0000000e+00     1\n",
      "<initrwgt /></init>\n",
      "<event>\n",
      "  5      0  1.4754509417e-14  1.7472400000e+05  7.8492935636e-03  1.0750000000e-01\n",
      "   11  -1   0   0   0   0  0.00000000e+00  0.00000000e+00  2.09000000e+02  2.09000000e+02  0.00000000e+00  0.0000e+00  9.0000e+00\n",
      "  -11  -1   0   0   0   0  0.00000000e+00  0.00000000e+00 -2.09000000e+02  2.09000000e+02  0.00000000e+00  0.0000e+00  9.0000e+00\n",
      "   22   2   1   2   0   0  0.00000000e+00  0.00000000e+00  0.00000000e+00  4.18000000e+02  0.00000000e+00  0.0000e+00  9.0000e+00\n",
      "   13   1   3   3   0   0 -2.00729992e+02 -3.55302362e+01 -4.61093561e+01  2.09000000e+02  0.00000000e+00  0.0000e+00  9.0000e+00\n",
      "  -13   1   3   3   0   0  2.00729992e+02  3.55302362e+01  4.61093561e+01  2.09000000e+02  0.00000000e+00  0.0000e+00  9.0000e+00\n",
      "</event>\n",
      "<event>\n",
      "  5      0  1.4754509417e-14  1.7472400000e+05  7.8492935636e-03  1.0750000000e-01\n",
      "   11  -1   0   0   0   0  0.00000000e+00  0.00000000e+00  2.09000000e+02  2.09000000e+02  0.00000000e+00  0.0000e+00  9.0000e+00\n",
      "  -11  -1   0   0   0   0  0.00000000e+00  0.00000000e+00 -2.09000000e+02  2.09000000e+02  0.00000000e+00  0.0000e+00  9.0000e+00\n",
      "   22   2   1   2   0   0  0.00000000e+00  0.00000000e+00  0.00000000e+00  4.18000000e+02  0.00000000e+00  0.0000e+00  9.0000e+00\n",
      "   13   1   3   3   0   0 -1.15091690e+02 -1.70884267e+02 -3.51207961e+01  2.09000000e+02  0.00000000e+00  0.0000e+00  9.0000e+00\n",
      "  -13   1   3   3   0   0  1.15091690e+02  1.70884267e+02  3.51207961e+01  2.09000000e+02  0.00000000e+00  0.0000e+00  9.0000e+00\n",
      "</event>\n",
      "<event>\n",
      "  5      0  1.4754509417e-14  1.7472400000e+05  7.8492935636e-03  1.0750000000e-01\n",
      "   11  -1   0   0   0   0  0.00000000e+00  0.00000000e+00  2.09000000e+02  2.09000000e+02  0.00000000e+00  0.0000e+00  9.0000e+00\n",
      "  -11  -1   0   0   0   0  0.00000000e+00  0.00000000e+00 -2.09000000e+02  2.09000000e+02  0.00000000e+00  0.0000e+00  9.0000e+00\n",
      "   22   2   1   2   0   0  0.00000000e+00  0.00000000e+00  0.00000000e+00  4.18000000e+02  0.00000000e+00  0.0000e+00  9.0000e+00\n",
      "   13   1   3   3   0   0 -6.04508603e+01 -5.93163149e+01  1.91071370e+02  2.09000000e+02  0.00000000e+00  0.0000e+00  9.0000e+00\n",
      "  -13   1   3   3   0   0  6.04508603e+01  5.93163149e+01 -1.91071370e+02  2.09000000e+02  0.00000000e+00  0.0000e+00  9.0000e+00\n",
      "</event>\n",
      "</LesHouchesEvents>\n"
     ]
    }
   ],
   "source": [
    "num_samples = 100000\n",
    "integ = 0.0\n",
    "lheevents = []\n",
    "while len(lheevents) < num_samples:\n",
    "    theta = random.uniform(theta_min, theta_max)\n",
    "    phi = random.uniform(phi_min, phi_max)\n",
    "    sig = (\n",
    "        (phi_max - phi_min)\n",
    "        * (theta_max - theta_min)\n",
    "        * dsigma(s, theta, phi)\n",
    "        * math.sin(theta)\n",
    "    )\n",
    "    if sig / maximum > random.uniform(\n",
    "        0, 1\n",
    "    ):  # Pick events randomly according to their contribution\n",
    "        e = pylhe.LHEEvent(\n",
    "            eventinfo=pylhe.LHEEventInfo(\n",
    "                nparticles=5,\n",
    "                pid=0,\n",
    "                weight=result / num_samples,  # The same weight per event\n",
    "                scale=s,\n",
    "                aqed=alpha,\n",
    "                aqcd=aqcd,\n",
    "            ),\n",
    "            particles=[\n",
    "                pylhe.LHEParticle(\n",
    "                    id=11,\n",
    "                    status=-1,\n",
    "                    mother1=0,\n",
    "                    mother2=0,\n",
    "                    color1=0,\n",
    "                    color2=0,\n",
    "                    px=0.0,\n",
    "                    py=0.0,\n",
    "                    pz=EB,\n",
    "                    e=EB,\n",
    "                    m=0.0,\n",
    "                    lifetime=0,\n",
    "                    spin=9.0,\n",
    "                ),\n",
    "                pylhe.LHEParticle(\n",
    "                    id=-11,\n",
    "                    status=-1,\n",
    "                    mother1=0,\n",
    "                    mother2=0,\n",
    "                    color1=0,\n",
    "                    color2=0,\n",
    "                    px=0.0,\n",
    "                    py=0.0,\n",
    "                    pz=-EB,\n",
    "                    e=EB,\n",
    "                    m=0.0,\n",
    "                    lifetime=0,\n",
    "                    spin=9.0,\n",
    "                ),\n",
    "                pylhe.LHEParticle(\n",
    "                    id=22,\n",
    "                    status=2,\n",
    "                    mother1=1,\n",
    "                    mother2=2,\n",
    "                    color1=0,\n",
    "                    color2=0,\n",
    "                    px=0.0,\n",
    "                    py=0.0,\n",
    "                    pz=EB - EB,\n",
    "                    e=EB + EB,\n",
    "                    m=0.0,\n",
    "                    lifetime=0,\n",
    "                    spin=9.0,\n",
    "                ),\n",
    "                pylhe.LHEParticle(\n",
    "                    id=13,\n",
    "                    status=1,\n",
    "                    mother1=3,\n",
    "                    mother2=3,\n",
    "                    color1=0,\n",
    "                    color2=0,\n",
    "                    px=EB * math.sin(theta) * math.cos(phi),\n",
    "                    py=EB * math.sin(theta) * math.sin(phi),\n",
    "                    pz=EB * math.cos(theta),\n",
    "                    e=EB,\n",
    "                    m=0,\n",
    "                    lifetime=0,\n",
    "                    spin=9.0,\n",
    "                ),\n",
    "                pylhe.LHEParticle(\n",
    "                    id=-13,\n",
    "                    status=1,\n",
    "                    mother1=3,\n",
    "                    mother2=3,\n",
    "                    color1=0,\n",
    "                    color2=0,\n",
    "                    px=-EB * math.sin(theta) * math.cos(phi),\n",
    "                    py=-EB * math.sin(theta) * math.sin(phi),\n",
    "                    pz=-EB * math.cos(theta),\n",
    "                    e=EB,\n",
    "                    m=0,\n",
    "                    lifetime=0,\n",
    "                    spin=9.0,\n",
    "                ),\n",
    "            ],\n",
    "        )\n",
    "        lheevents.append(e)\n",
    "lheinit = pylhe.LHEInit(\n",
    "    initInfo=pylhe.LHEInitInfo(\n",
    "        beamA=11,\n",
    "        beamB=-11,\n",
    "        energyA=EB,\n",
    "        energyB=EB,\n",
    "        PDFgroupA=0,\n",
    "        PDFgroupB=0,\n",
    "        PDFsetA=0,\n",
    "        PDFsetB=0,\n",
    "        weightingStrategy=3,\n",
    "        numProcesses=1,\n",
    "    ),\n",
    "    procInfo=[\n",
    "        pylhe.LHEProcInfo(\n",
    "            xSection=result,\n",
    "            error=0,\n",
    "            unitWeight=1,\n",
    "            procId=1,\n",
    "        )\n",
    "    ],\n",
    "    weightgroup={},\n",
    "    LHEVersion=3,\n",
    ")\n",
    "print(pylhe.write_lhe_string(lheinit, lheevents[0:3], rwgt=False, weights=False))\n",
    "pylhe.write_lhe_file(\n",
    "    lheinit, lheevents, filepath=\"unweighted.lhe\", rwgt=False, weights=False\n",
    ")"
   ]
  },
  {
   "cell_type": "code",
   "execution_count": 9,
   "id": "e840fba3-e797-497c-9ad8-e48451928614",
   "metadata": {},
   "outputs": [
    {
     "data": {
      "text/html": [
       "<html>\n",
       "<div style=\"display:flex; align-items:center;\">\n",
       "<div style=\"width:290px;\">\n",
       "<svg xmlns=\"http://www.w3.org/2000/svg\" viewBox=\"-10 -105 270 120\">\n",
       "<line x1=\"-5\" y1=\"0\" x2=\"255\" y2=\"0\" style=\"fill:none;stroke-width:2;stroke:currentColor\"/>\n",
       "<text text-anchor=\"middle\" x=\"0\" y=\"15\" style=\"fill:currentColor;\">\n",
       "0\n",
       "</text>\n",
       "<text text-anchor=\"middle\" x=\"250\" y=\"15\" style=\"fill:currentColor;\">\n",
       "3.14\n",
       "</text>\n",
       "<text text-anchor=\"middle\" x=\"125.0\" y=\"15\" style=\"fill:currentColor;\">\n",
       "Axis 0\n",
       "</text>\n",
       "<polyline points=\"  0,0   0,-14.3 12.5,-14.3 12.5,-39.3  25,-39.3  25,-65.6 37.5,-65.6 37.5,-82.3  50,-82.3  50,-94 62.5,-94 62.5,-97.6  75,-97.6  75,-97.7 87.5,-97.7 87.5,-95.7 100,-95.7 100,-93.8 112.5,-93.8 112.5,-87.3 125,-87.3 125,-91.4 137.5,-91.4 137.5,-92.9 150,-92.9 150,-94 162.5,-94 162.5,-99.5 175,-99.5 175,-100 187.5,-100 187.5,-93.4 200,-93.4 200,-83.5 212.5,-83.5 212.5,-64.8 225,-64.8 225,-41.6 237.5,-41.6 237.5,-13 250,-13 250,0\" style=\"fill:none; stroke:currentColor;\"/>\n",
       "</svg>\n",
       "</div>\n",
       "<div style=\"flex=grow:1;\">\n",
       "Regular(20, 0, 3.14159, label='Axis 0')<br/>\n",
       "<hr style=\"margin-top:.2em; margin-bottom:.2em;\"/>\n",
       "Weight() Σ=WeightedSum(value=1.47545e-09, variance=2.17696e-23)\n",
       "\n",
       "</div>\n",
       "</div>\n",
       "</html>"
      ],
      "text/plain": [
       "Hist(Regular(20, 0, 3.14159, label='Axis 0'), storage=Weight()) # Sum: WeightedSum(value=1.47545e-09, variance=2.17696e-23)"
      ]
     },
     "execution_count": 9,
     "metadata": {},
     "output_type": "execute_result"
    }
   ],
   "source": [
    "arr = pylhe.to_awkward(pylhe.read_lhe_with_attributes(\"unweighted.lhe\"))\n",
    "hist2 = hist.Hist.new.Reg(20, 0, math.pi).Weight()\n",
    "hist2.fill(arr.particles.vector[:, -1].theta, weight=arr.eventinfo.weight)"
   ]
  },
  {
   "cell_type": "code",
   "execution_count": 10,
   "id": "c9ab56a1-50bc-405a-b7e5-c7d6b61881de",
   "metadata": {},
   "outputs": [
    {
     "data": {
      "text/plain": [
       "[StairsArtists(stairs=<matplotlib.patches.StepPatch object at 0x7f691bffa350>, errorbar=<ErrorbarContainer object of 3 artists>, legend_artist=<ErrorbarContainer object of 3 artists>)]"
      ]
     },
     "execution_count": 10,
     "metadata": {},
     "output_type": "execute_result"
    },
    {
     "data": {
      "image/png": "[encoded data removed]",
      "text/plain": [
       "<Figure size 640x480 with 1 Axes>"
      ]
     },
     "metadata": {},
     "output_type": "display_data"
    }
   ],
   "source": [
    "hist2.plot()"
   ]
  },
  {
   "cell_type": "code",
   "execution_count": 11,
   "id": "c9be8352-6ab8-45c2-a4ac-fa458ee41652",
   "metadata": {},
   "outputs": [
    {
     "data": {
      "text/plain": [
       "(([StairsArtists(stairs=<matplotlib.patches.StepPatch object at 0x7f6925596fd0>, errorbar=<ErrorbarContainer object of 3 artists>, legend_artist=<ErrorbarContainer object of 3 artists>)],\n",
       "  [StairsArtists(stairs=<matplotlib.patches.StepPatch object at 0x7f6925596e90>, errorbar=<ErrorbarContainer object of 3 artists>, legend_artist=<ErrorbarContainer object of 3 artists>)]),\n",
       " RatioErrorbarArtists(line=<matplotlib.lines.Line2D object at 0x7f6925597b10>, errorbar=<ErrorbarContainer object of 3 artists>))"
      ]
     },
     "execution_count": 11,
     "metadata": {},
     "output_type": "execute_result"
    },
    {
     "data": {
      "image/png": "[encoded data removed]",
      "text/plain": [
       "<Figure size 640x480 with 2 Axes>"
      ]
     },
     "metadata": {},
     "output_type": "display_data"
    }
   ],
   "source": [
    "hist1.plot_ratio(hist2)"
   ]
  },
  {
   "cell_type": "code",
   "execution_count": null,
   "id": "f964bc54-a958-4b2f-b3de-7f142d878472",
   "metadata": {},
   "outputs": [],
   "source": []
  },
  {
   "cell_type": "code",
   "execution_count": null,
   "id": "651a1ba9-727e-4533-8186-a5e46fb08a87",
   "metadata": {},
   "outputs": [],
   "source": []
  }
 ],
 "metadata": {
  "kernelspec": {
   "display_name": "Python 3 (ipykernel)",
   "language": "python",
   "name": "python3"
  },
  "language_info": {
   "codemirror_mode": {
    "name": "ipython",
    "version": 3
   },
   "file_extension": ".py",
   "mimetype": "text/x-python",
   "name": "python",
   "nbconvert_exporter": "python",
   "pygments_lexer": "ipython3",
   "version": "3.13.3"
  }
 },
 "nbformat": 4,
 "nbformat_minor": 5
}
