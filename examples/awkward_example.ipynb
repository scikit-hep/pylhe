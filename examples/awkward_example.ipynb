{
 "cells": [
  {
   "cell_type": "code",
   "execution_count": 1,
   "metadata": {},
   "outputs": [],
   "source": [
    "import awkward as ak\n",
    "import hist\n",
    "import numpy as np\n",
    "\n",
    "import pylhe"
   ]
  },
  {
   "cell_type": "code",
   "execution_count": 2,
   "metadata": {
    "tags": []
   },
   "outputs": [
    {
     "data": {
      "text/html": [
       "<pre>[{eventinfo: {nparticles: 4, pid: 1, ...}, particles: [...]},\n",
       " {eventinfo: {nparticles: 5, pid: 1, ...}, particles: [...]},\n",
       " {eventinfo: {nparticles: 5, pid: 1, ...}, particles: [...]},\n",
       " {eventinfo: {nparticles: 4, pid: 1, ...}, particles: [...]},\n",
       " {eventinfo: {nparticles: 4, pid: 1, ...}, particles: [...]},\n",
       " {eventinfo: {nparticles: 4, pid: 1, ...}, particles: [...]},\n",
       " {eventinfo: {nparticles: 5, pid: 1, ...}, particles: [...]},\n",
       " {eventinfo: {nparticles: 4, pid: 1, ...}, particles: [...]},\n",
       " {eventinfo: {nparticles: 5, pid: 1, ...}, particles: [...]},\n",
       " {eventinfo: {nparticles: 4, pid: 1, ...}, particles: [...]},\n",
       " ...,\n",
       " {eventinfo: {nparticles: 4, pid: 1, ...}, particles: [...]},\n",
       " {eventinfo: {nparticles: 4, pid: 1, ...}, particles: [...]},\n",
       " {eventinfo: {nparticles: 4, pid: 1, ...}, particles: [...]},\n",
       " {eventinfo: {nparticles: 4, pid: 1, ...}, particles: [...]},\n",
       " {eventinfo: {nparticles: 5, pid: 1, ...}, particles: [...]},\n",
       " {eventinfo: {nparticles: 4, pid: 1, ...}, particles: [...]},\n",
       " {eventinfo: {nparticles: 4, pid: 1, ...}, particles: [...]},\n",
       " {eventinfo: {nparticles: 4, pid: 1, ...}, particles: [...]},\n",
       " {eventinfo: {nparticles: 5, pid: 1, ...}, particles: [...]}]\n",
       "-------------------------------------------------------------\n",
       "type: 10000 * Event[\n",
       "    eventinfo: EventInfo[\n",
       "        nparticles: float64,\n",
       "        pid: float64,\n",
       "        weight: float64,\n",
       "        scale: float64,\n",
       "        aqed: float64,\n",
       "        aqcd: float64\n",
       "    ],\n",
       "    particles: var * Particle[\n",
       "        vector: Momentum4D[\n",
       "            x: float64,\n",
       "            y: float64,\n",
       "            z: float64,\n",
       "            t: float64\n",
       "        ],\n",
       "        id: float64,\n",
       "        status: float64,\n",
       "        mother1: float64,\n",
       "        mother2: float64,\n",
       "        color1: float64,\n",
       "        color2: float64,\n",
       "        m: float64,\n",
       "        lifetime: float64,\n",
       "        spin: float64\n",
       "    ]\n",
       "]</pre>"
      ],
      "text/plain": [
       "<EventArray [{eventinfo: {...}, ...}, ..., {...}] type='10000 * Event[event...'>"
      ]
     },
     "execution_count": 2,
     "metadata": {},
     "output_type": "execute_result"
    }
   ],
   "source": [
    "# Use an example LHE file from package scikit-hep-testdata\n",
    "from skhep_testdata import data_path\n",
    "\n",
    "lhe_file = data_path(\"pylhe-drell-yan-ll-lhe.gz\")\n",
    "\n",
    "arr = pylhe.to_awkward(pylhe.read_lhe_with_attributes(lhe_file))\n",
    "\n",
    "arr"
   ]
  },
  {
   "cell_type": "code",
   "execution_count": 3,
   "metadata": {},
   "outputs": [
    {
     "name": "stdout",
     "output_type": "stream",
     "text": [
      "Number of events: 10000\n"
     ]
    }
   ],
   "source": [
    "print(f\"Number of events: {pylhe.read_num_events(lhe_file)}\")"
   ]
  },
  {
   "cell_type": "code",
   "execution_count": 4,
   "metadata": {},
   "outputs": [
    {
     "data": {
      "text/html": [
       "<html>\n",
       "<div style=\"display:flex; align-items:center;\">\n",
       "<div style=\"width:290px;\">\n",
       "<svg xmlns=\"http://www.w3.org/2000/svg\" viewBox=\"-10 -105 270 120\">\n",
       "<line x1=\"-5\" y1=\"0\" x2=\"255\" y2=\"0\" style=\"fill:none;stroke-width:2;stroke:currentColor\"/>\n",
       "<text text-anchor=\"middle\" x=\"0\" y=\"15\" style=\"fill:currentColor;\">\n",
       "50\n",
       "</text>\n",
       "<text text-anchor=\"middle\" x=\"250\" y=\"15\" style=\"fill:currentColor;\">\n",
       "150\n",
       "</text>\n",
       "<text text-anchor=\"middle\" x=\"125.0\" y=\"15\" style=\"fill:currentColor;\">\n",
       "Axis 0\n",
       "</text>\n",
       "<polyline points=\"  0,0   0,-1.2 2.5,-1.2 2.5,-1.32   5,-1.32   5,-1.03 7.5,-1.03 7.5,-1.15  10,-1.15  10,-0.974 12.5,-0.974 12.5,-0.917  15,-0.917  15,-0.745 17.5,-0.745 17.5,-0.688  20,-0.688  20,-1.49 22.5,-1.49 22.5,-0.688  25,-0.688  25,-1.38 27.5,-1.38 27.5,-0.458  30,-0.458  30,-0.573 32.5,-0.573 32.5,-0.688  35,-0.688  35,-0.86 37.5,-0.86 37.5,-0.573  40,-0.573  40,-0.745 42.5,-0.745 42.5,-1.03  45,-1.03  45,-0.458 47.5,-0.458 47.5,-0.745  50,-0.745  50,-0.86 52.5,-0.86 52.5,-0.688  55,-0.688  55,-0.917 57.5,-0.917 57.5,-0.688  60,-0.688  60,-1.09 62.5,-1.09 62.5,-1.2  65,-1.2  65,-1.03 67.5,-1.03 67.5,-0.974  70,-0.974  70,-1.6 72.5,-1.6 72.5,-2.01  75,-2.01  75,-2.23 77.5,-2.23 77.5,-2.29  80,-2.29  80,-2.23 82.5,-2.23 82.5,-4.41  85,-4.41  85,-3.55 87.5,-3.55 87.5,-4.76  90,-4.76  90,-7.34 92.5,-7.34 92.5,-10.7  95,-10.7  95,-21.1 97.5,-21.1 97.5,-42.3 100,-42.3 100,-84.6 102.5,-84.6 102.5,-100 105,-100 105,-54.6 107.5,-54.6 107.5,-25.3 110,-25.3 110,-15 112.5,-15 112.5,-7.79 115,-7.79 115,-6.48 117.5,-6.48 117.5,-3.15 120,-3.15 120,-3.04 122.5,-3.04 122.5,-2.46 125,-2.46 125,-2.52 127.5,-2.52 127.5,-2.06 130,-2.06 130,-1.38 132.5,-1.38 132.5,-0.86 135,-0.86 135,-0.917 137.5,-0.917 137.5,-0.688 140,-0.688 140,-0.974 142.5,-0.974 142.5,-0.86 145,-0.86 145,-0.802 147.5,-0.802 147.5,-0.458 150,-0.458 150,-0.344 152.5,-0.344 152.5,-0.287 155,-0.287 155,-0.458 157.5,-0.458 157.5,-0.516 160,-0.516 160,-0.344 162.5,-0.344 162.5,-0.287 165,-0.287 165,-0.287 167.5,-0.287 167.5,-0.344 170,-0.344 170,-0.287 172.5,-0.287 172.5,-0.172 175,-0.172 175,-0.172 177.5,-0.172 177.5,-0.287 180,-0.287 180,-0.229 182.5,-0.229 182.5,-0.0573 185,-0.0573 185,-0.287 187.5,-0.287 187.5,-0.0573 190,-0.0573 190,-0.115 192.5,-0.115 192.5,-0.229 195,-0.229 195,-0.287 197.5,-0.287 197.5,-0.172 200,-0.172 200,-0.0573 202.5,-0.0573 202.5,-0.115 205,-0.115 205,-0.0573 207.5,-0.0573 207.5,-0.0573 210,-0.0573 210,-0.172 212.5,-0.172 212.5,-0.115 215,-0.115 215,-0.115 217.5,-0.115 217.5,-0.229 220,-0.229 220,-0.0573 222.5,-0.0573 222.5,-0.0573 225,-0.0573 225,-0 227.5,-0 227.5,-0.115 230,-0.115 230,-0.115 232.5,-0.115 232.5,-0 235,-0 235,-0.0573 237.5,-0.0573 237.5,-0.0573 240,-0.0573 240,-0.0573 242.5,-0.0573 242.5,-0.0573 245,-0.0573 245,-0.0573 247.5,-0.0573 247.5,-0 250,-0 250,0\" style=\"fill:none; stroke:currentColor;\"/>\n",
       "</svg>\n",
       "</div>\n",
       "<div style=\"flex=grow:1;\">\n",
       "Regular(100, 50, 150, label='Axis 0')<br/>\n",
       "<hr style=\"margin-top:.2em; margin-bottom:.2em;\"/>\n",
       "Int64() Σ=7860.0 <em>(10000.0 with flow)</em>\n",
       "\n",
       "</div>\n",
       "</div>\n",
       "</html>"
      ],
      "text/plain": [
       "Hist(Regular(100, 50, 150, label='Axis 0'), storage=Int64()) # Sum: 7860.0 (10000.0 with flow)"
      ]
     },
     "execution_count": 4,
     "metadata": {},
     "output_type": "execute_result"
    }
   ],
   "source": [
    "hist1 = hist.Hist.new.Reg(100, 50, 150).Int64()\n",
    "hist1.fill((arr.particles.vector[:, -1] + arr.particles.vector[:, -2]).mass)"
   ]
  },
  {
   "cell_type": "code",
   "execution_count": 5,
   "metadata": {},
   "outputs": [
    {
     "data": {
      "image/png": "[encoded data removed]",
      "text/plain": [
       "<Figure size 640x480 with 1 Axes>"
      ]
     },
     "metadata": {},
     "output_type": "display_data"
    }
   ],
   "source": [
    "artists = hist1.plot1d()\n",
    "ax = artists[0].stairs.axes\n",
    "ax.set_yscale(\"log\")\n",
    "ax.set_xlabel(\"Mass [GeV]\")\n",
    "ax.set_ylabel(\"Count\");"
   ]
  }
 ],
 "metadata": {
  "kernelspec": {
   "display_name": "Python 3 (ipykernel)",
   "language": "python",
   "name": "python3"
  },
  "language_info": {
   "codemirror_mode": {
    "name": "ipython",
    "version": 3
   },
   "file_extension": ".py",
   "mimetype": "text/x-python",
   "name": "python",
   "nbconvert_exporter": "python",
   "pygments_lexer": "ipython3",
   "version": "3.8.13"
  },
  "metadata": {
   "interpreter": {
    "hash": "73182083f4e2a7a153b1c22bd64054bec714030b17650bd3a885c40287b848ca"
   }
  }
 },
 "nbformat": 4,
 "nbformat_minor": 2
}
