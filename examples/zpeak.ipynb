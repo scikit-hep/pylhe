{
 "cells": [
  {
   "cell_type": "markdown",
   "metadata": {},
   "source": [
    "We will plot a invariant mass distribution from a LHE input file.\n",
    "\n",
    "First, some basic imports."
   ]
  },
  {
   "cell_type": "code",
   "execution_count": 1,
   "metadata": {
    "collapsed": false,
    "jupyter": {
     "outputs_hidden": false
    },
    "tags": []
   },
   "outputs": [],
   "source": [
    "import math\n",
    "\n",
    "import hist\n",
    "\n",
    "import pylhe\n",
    "\n",
    "# we'll use an example data also used for testing\n",
    "from skhep_testdata import data_path\n",
    "\n",
    "lhe_file = data_path(\"pylhe-drell-yan-ll-lhe.gz\")"
   ]
  },
  {
   "cell_type": "markdown",
   "metadata": {},
   "source": [
    "Prepare a histogram and a function to calculate the invariant mass of two particles."
   ]
  },
  {
   "cell_type": "code",
   "execution_count": 2,
   "metadata": {
    "collapsed": false,
    "jupyter": {
     "outputs_hidden": false
    },
    "tags": []
   },
   "outputs": [],
   "source": [
    "h = hist.Hist.new.Reg(30, 50, 150).Int64()"
   ]
  },
  {
   "cell_type": "markdown",
   "metadata": {},
   "source": [
    "Use the generator provided by pylhe to read the events."
   ]
  },
  {
   "cell_type": "code",
   "execution_count": 3,
   "metadata": {
    "collapsed": false,
    "jupyter": {
     "outputs_hidden": false
    },
    "tags": []
   },
   "outputs": [
    {
     "data": {
      "text/html": [
       "<html>\n",
       "<div style=\"display:flex; align-items:center;\">\n",
       "<div style=\"width:290px;\">\n",
       "<svg xmlns=\"http://www.w3.org/2000/svg\" viewBox=\"-10 -105 270 120\">\n",
       "<line x1=\"-5\" y1=\"0\" x2=\"255\" y2=\"0\" style=\"fill:none;stroke-width:2;stroke:currentColor\"/>\n",
       "<text text-anchor=\"middle\" x=\"0\" y=\"15\" style=\"fill:currentColor;\">\n",
       "50\n",
       "</text>\n",
       "<text text-anchor=\"middle\" x=\"250\" y=\"15\" style=\"fill:currentColor;\">\n",
       "150\n",
       "</text>\n",
       "<text text-anchor=\"middle\" x=\"125.0\" y=\"15\" style=\"fill:currentColor;\">\n",
       "Axis 0\n",
       "</text>\n",
       "<polyline points=\"  0,0   0,-1.61 8.33333,-1.61 8.33333,-1.22 16.6667,-1.22 16.6667,-1.27  25,-1.27  25,-1.13 33.3333,-1.13 33.3333,-0.851 41.6667,-0.851 41.6667,-1.04  50,-1.04  50,-1.06 58.3333,-1.06 58.3333,-1.43 66.6667,-1.43 66.6667,-1.96  75,-1.96  75,-3.22 83.3333,-3.22 83.3333,-6.6 91.6667,-6.6 91.6667,-30.7 100,-30.7 100,-100 108.333,-100 108.333,-17.3 116.667,-17.3 116.667,-4.16 125,-4.16 125,-2.53 133.333,-2.53 133.333,-1.1 141.667,-1.1 141.667,-0.989 150,-0.989 150,-0.46 158.333,-0.46 158.333,-0.529 166.667,-0.529 166.667,-0.345 175,-0.345 175,-0.299 183.333,-0.299 183.333,-0.184 191.667,-0.184 191.667,-0.276 200,-0.276 200,-0.115 208.333,-0.115 208.333,-0.115 216.667,-0.115 216.667,-0.184 225,-0.184 225,-0.092 233.333,-0.092 233.333,-0.069 241.667,-0.069 241.667,-0.046 250,-0.046 250,0\" style=\"fill:none; stroke:currentColor;\"/>\n",
       "</svg>\n",
       "</div>\n",
       "<div style=\"flex=grow:1;\">\n",
       "Regular(30, 50, 150, label='Axis 0')<br/>\n",
       "<hr style=\"margin-top:.2em; margin-bottom:.2em;\"/>\n",
       "Int64() Σ=13189080.0 <em>(16780000.0 with flow)</em>\n",
       "\n",
       "</div>\n",
       "</div>\n",
       "</html>"
      ],
      "text/plain": [
       "Hist(Regular(30, 50, 150, label='Axis 0'), storage=Int64()) # Sum: 13189080.0 (16780000.0 with flow)"
      ]
     },
     "execution_count": 3,
     "metadata": {},
     "output_type": "execute_result"
    }
   ],
   "source": [
    "events = pylhe.to_awkward(pylhe.read_lhe_with_attributes(lhe_file))\n",
    "h.fill((events.particles.vector[:,-1] + events.particles.vector[:,-2]).mass, weight=events.eventinfo.weight)\n",
    "h"
   ]
  },
  {
   "cell_type": "code",
   "execution_count": 4,
   "metadata": {
    "collapsed": false,
    "jupyter": {
     "outputs_hidden": false
    },
    "tags": []
   },
   "outputs": [
    {
     "data": {
      "image/png": "[encoded data removed]",
      "text/plain": [
       "<Figure size 640x480 with 1 Axes>"
      ]
     },
     "metadata": {},
     "output_type": "display_data"
    }
   ],
   "source": [
    "a = h.plot1d()\n",
    "a[0].stairs.axes.set_yscale(\"log\")"
   ]
  },
  {
   "cell_type": "markdown",
   "metadata": {},
   "source": [
    "`pylhe` also has helpful graph representation of events so you can view what the LHE events you are studying look like."
   ]
  },
  {
   "cell_type": "code",
   "execution_count": 5,
   "metadata": {
    "collapsed": false,
    "jupyter": {
     "outputs_hidden": false
    },
    "tags": []
   },
   "outputs": [
    {
     "data": {
      "image/svg+xml": [
       "<?xml version=\"1.0\" encoding=\"UTF-8\" standalone=\"no\"?>\n",
       "<!DOCTYPE svg PUBLIC \"-//W3C//DTD SVG 1.1//EN\"\n",
       " \"http://www.w3.org/Graphics/SVG/1.1/DTD/svg11.dtd\">\n",
       "<!-- Generated by graphviz version 2.43.0 (0)\n",
       " -->\n",
       "<!-- Title: %3 Pages: 1 -->\n",
       "<svg width=\"134pt\" height=\"120pt\"\n",
       " viewBox=\"0.00 0.00 134.00 120.37\" xmlns=\"http://www.w3.org/2000/svg\" xmlns:xlink=\"http://www.w3.org/1999/xlink\">\n",
       "<g id=\"graph0\" class=\"graph\" transform=\"scale(1 1) rotate(0) translate(4 116.37)\">\n",
       "<title>%3</title>\n",
       "<polygon fill=\"white\" stroke=\"transparent\" points=\"-4,4 -4,-116.37 130,-116.37 130,4 -4,4\"/>\n",
       "<!-- 0 -->\n",
       "<g id=\"node1\" class=\"node\">\n",
       "<title>0</title>\n",
       "<ellipse fill=\"none\" stroke=\"black\" cx=\"27\" cy=\"-93.28\" rx=\"27\" ry=\"19.18\"/>\n",
       "<text text-anchor=\"start\" x=\"24\" y=\"-89.08\" font-family=\"Times,serif\" font-size=\"14.00\">u</text>\n",
       "</g>\n",
       "<!-- 2 -->\n",
       "<g id=\"node3\" class=\"node\">\n",
       "<title>2</title>\n",
       "<ellipse fill=\"none\" stroke=\"black\" cx=\"27\" cy=\"-19.09\" rx=\"27\" ry=\"19.18\"/>\n",
       "<text text-anchor=\"start\" x=\"20\" y=\"-15.89\" font-family=\"Times,serif\" font-size=\"14.00\">e</text>\n",
       "<text text-anchor=\"start\" x=\"27\" y=\"-15.89\" font-family=\"Times,serif\" baseline-shift=\"super\" font-size=\"14.00\">+</text>\n",
       "</g>\n",
       "<!-- 0&#45;&gt;2 -->\n",
       "<g id=\"edge1\" class=\"edge\">\n",
       "<title>0&#45;&gt;2</title>\n",
       "<path fill=\"none\" stroke=\"black\" d=\"M27,-74.06C27,-66.28 27,-57.02 27,-48.38\"/>\n",
       "<polygon fill=\"black\" stroke=\"black\" points=\"30.5,-48.3 27,-38.3 23.5,-48.3 30.5,-48.3\"/>\n",
       "</g>\n",
       "<!-- 3 -->\n",
       "<g id=\"node4\" class=\"node\">\n",
       "<title>3</title>\n",
       "<ellipse fill=\"none\" stroke=\"black\" cx=\"99\" cy=\"-19.09\" rx=\"27\" ry=\"19.18\"/>\n",
       "<text text-anchor=\"start\" x=\"94\" y=\"-15.89\" font-family=\"Times,serif\" font-size=\"14.00\">e</text>\n",
       "<text text-anchor=\"start\" x=\"101\" y=\"-15.89\" font-family=\"Times,serif\" baseline-shift=\"super\" font-size=\"14.00\">&#45;</text>\n",
       "</g>\n",
       "<!-- 0&#45;&gt;3 -->\n",
       "<g id=\"edge3\" class=\"edge\">\n",
       "<title>0&#45;&gt;3</title>\n",
       "<path fill=\"none\" stroke=\"black\" d=\"M41.92,-77.32C52.06,-67.16 65.63,-53.54 77.01,-42.14\"/>\n",
       "<polygon fill=\"black\" stroke=\"black\" points=\"79.52,-44.58 84.1,-35.03 74.56,-39.64 79.52,-44.58\"/>\n",
       "</g>\n",
       "<!-- 1 -->\n",
       "<g id=\"node2\" class=\"node\">\n",
       "<title>1</title>\n",
       "<ellipse fill=\"none\" stroke=\"black\" cx=\"99\" cy=\"-93.28\" rx=\"27\" ry=\"19.18\"/>\n",
       "<text text-anchor=\"start\" x=\"96\" y=\"-89.08\" font-family=\"Times,serif\" font-size=\"14.00\">u̅</text>\n",
       "</g>\n",
       "<!-- 1&#45;&gt;2 -->\n",
       "<g id=\"edge2\" class=\"edge\">\n",
       "<title>1&#45;&gt;2</title>\n",
       "<path fill=\"none\" stroke=\"black\" d=\"M84.08,-77.32C73.94,-67.16 60.37,-53.54 48.99,-42.14\"/>\n",
       "<polygon fill=\"black\" stroke=\"black\" points=\"51.44,-39.64 41.9,-35.03 46.48,-44.58 51.44,-39.64\"/>\n",
       "</g>\n",
       "<!-- 1&#45;&gt;3 -->\n",
       "<g id=\"edge4\" class=\"edge\">\n",
       "<title>1&#45;&gt;3</title>\n",
       "<path fill=\"none\" stroke=\"black\" d=\"M99,-74.06C99,-66.28 99,-57.02 99,-48.38\"/>\n",
       "<polygon fill=\"black\" stroke=\"black\" points=\"102.5,-48.3 99,-38.3 95.5,-48.3 102.5,-48.3\"/>\n",
       "</g>\n",
       "</g>\n",
       "</svg>\n"
      ],
      "text/plain": [
       "<pylhe.LHEEvent at 0x7f0dd50ec670>"
      ]
     },
     "execution_count": 5,
     "metadata": {},
     "output_type": "execute_result"
    }
   ],
   "source": [
    "events = pylhe.read_lhe(lhe_file)\n",
    "e = next(events)\n",
    "e"
   ]
  },
  {
   "cell_type": "code",
   "execution_count": 6,
   "metadata": {
    "collapsed": false,
    "jupyter": {
     "outputs_hidden": false
    },
    "tags": []
   },
   "outputs": [
    {
     "data": {
      "image/svg+xml": [
       "<?xml version=\"1.0\" encoding=\"UTF-8\" standalone=\"no\"?>\n",
       "<!DOCTYPE svg PUBLIC \"-//W3C//DTD SVG 1.1//EN\"\n",
       " \"http://www.w3.org/Graphics/SVG/1.1/DTD/svg11.dtd\">\n",
       "<!-- Generated by graphviz version 2.43.0 (0)\n",
       " -->\n",
       "<!-- Title: %3 Pages: 1 -->\n",
       "<svg width=\"134pt\" height=\"195pt\"\n",
       " viewBox=\"0.00 0.00 134.00 194.55\" xmlns=\"http://www.w3.org/2000/svg\" xmlns:xlink=\"http://www.w3.org/1999/xlink\">\n",
       "<g id=\"graph0\" class=\"graph\" transform=\"scale(1 1) rotate(0) translate(4 190.55)\">\n",
       "<title>%3</title>\n",
       "<polygon fill=\"white\" stroke=\"transparent\" points=\"-4,4 -4,-190.55 130,-190.55 130,4 -4,4\"/>\n",
       "<!-- 0 -->\n",
       "<g id=\"node1\" class=\"node\">\n",
       "<title>0</title>\n",
       "<ellipse fill=\"none\" stroke=\"black\" cx=\"27\" cy=\"-167.46\" rx=\"27\" ry=\"19.18\"/>\n",
       "<text text-anchor=\"start\" x=\"24\" y=\"-163.26\" font-family=\"Times,serif\" font-size=\"14.00\">u</text>\n",
       "</g>\n",
       "<!-- 2 -->\n",
       "<g id=\"node3\" class=\"node\">\n",
       "<title>2</title>\n",
       "<ellipse fill=\"none\" stroke=\"black\" cx=\"63\" cy=\"-93.28\" rx=\"27\" ry=\"19.18\"/>\n",
       "<text text-anchor=\"start\" x=\"55\" y=\"-90.08\" font-family=\"Times,serif\" font-size=\"14.00\">Z</text>\n",
       "<text text-anchor=\"start\" x=\"64\" y=\"-90.08\" font-family=\"Times,serif\" baseline-shift=\"super\" font-size=\"14.00\">0</text>\n",
       "</g>\n",
       "<!-- 0&#45;&gt;2 -->\n",
       "<g id=\"edge1\" class=\"edge\">\n",
       "<title>0&#45;&gt;2</title>\n",
       "<path fill=\"none\" stroke=\"black\" d=\"M35.71,-148.99C39.96,-140.47 45.15,-130.06 49.87,-120.61\"/>\n",
       "<polygon fill=\"black\" stroke=\"black\" points=\"53.03,-122.1 54.37,-111.59 46.77,-118.98 53.03,-122.1\"/>\n",
       "</g>\n",
       "<!-- 1 -->\n",
       "<g id=\"node2\" class=\"node\">\n",
       "<title>1</title>\n",
       "<ellipse fill=\"none\" stroke=\"black\" cx=\"99\" cy=\"-167.46\" rx=\"27\" ry=\"19.18\"/>\n",
       "<text text-anchor=\"start\" x=\"96\" y=\"-163.26\" font-family=\"Times,serif\" font-size=\"14.00\">u̅</text>\n",
       "</g>\n",
       "<!-- 1&#45;&gt;2 -->\n",
       "<g id=\"edge2\" class=\"edge\">\n",
       "<title>1&#45;&gt;2</title>\n",
       "<path fill=\"none\" stroke=\"black\" d=\"M90.29,-148.99C86.04,-140.47 80.85,-130.06 76.13,-120.61\"/>\n",
       "<polygon fill=\"black\" stroke=\"black\" points=\"79.23,-118.98 71.63,-111.59 72.97,-122.1 79.23,-118.98\"/>\n",
       "</g>\n",
       "<!-- 3 -->\n",
       "<g id=\"node4\" class=\"node\">\n",
       "<title>3</title>\n",
       "<ellipse fill=\"none\" stroke=\"black\" cx=\"27\" cy=\"-19.09\" rx=\"27\" ry=\"19.18\"/>\n",
       "<text text-anchor=\"start\" x=\"20\" y=\"-15.89\" font-family=\"Times,serif\" font-size=\"14.00\">μ</text>\n",
       "<text text-anchor=\"start\" x=\"28\" y=\"-15.89\" font-family=\"Times,serif\" baseline-shift=\"super\" font-size=\"14.00\">+</text>\n",
       "</g>\n",
       "<!-- 2&#45;&gt;3 -->\n",
       "<g id=\"edge3\" class=\"edge\">\n",
       "<title>2&#45;&gt;3</title>\n",
       "<path fill=\"none\" stroke=\"black\" d=\"M54.29,-74.8C50.04,-66.29 44.85,-55.88 40.13,-46.43\"/>\n",
       "<polygon fill=\"black\" stroke=\"black\" points=\"43.23,-44.79 35.63,-37.4 36.97,-47.92 43.23,-44.79\"/>\n",
       "</g>\n",
       "<!-- 4 -->\n",
       "<g id=\"node5\" class=\"node\">\n",
       "<title>4</title>\n",
       "<ellipse fill=\"none\" stroke=\"black\" cx=\"99\" cy=\"-19.09\" rx=\"27\" ry=\"19.18\"/>\n",
       "<text text-anchor=\"start\" x=\"93\" y=\"-15.89\" font-family=\"Times,serif\" font-size=\"14.00\">μ</text>\n",
       "<text text-anchor=\"start\" x=\"101\" y=\"-15.89\" font-family=\"Times,serif\" baseline-shift=\"super\" font-size=\"14.00\">&#45;</text>\n",
       "</g>\n",
       "<!-- 2&#45;&gt;4 -->\n",
       "<g id=\"edge4\" class=\"edge\">\n",
       "<title>2&#45;&gt;4</title>\n",
       "<path fill=\"none\" stroke=\"black\" d=\"M71.71,-74.8C75.96,-66.29 81.15,-55.88 85.87,-46.43\"/>\n",
       "<polygon fill=\"black\" stroke=\"black\" points=\"89.03,-47.92 90.37,-37.4 82.77,-44.79 89.03,-47.92\"/>\n",
       "</g>\n",
       "</g>\n",
       "</svg>\n"
      ],
      "text/plain": [
       "<pylhe.LHEEvent at 0x7f0dd5cba980>"
      ]
     },
     "execution_count": 6,
     "metadata": {},
     "output_type": "execute_result"
    }
   ],
   "source": [
    "e = next(events)\n",
    "e"
   ]
  },
  {
   "cell_type": "markdown",
   "metadata": {},
   "source": [
    "You can also render these graphs into a PDF file."
   ]
  },
  {
   "cell_type": "code",
   "execution_count": 7,
   "metadata": {
    "tags": []
   },
   "outputs": [
    {
     "data": {
      "text/plain": [
       "'z0-event.pdf'"
      ]
     },
     "execution_count": 7,
     "metadata": {},
     "output_type": "execute_result"
    }
   ],
   "source": [
    "e.graph.render(filename='z0-event', format='pdf', cleanup=True)"
   ]
  },
  {
   "cell_type": "code",
   "execution_count": null,
   "metadata": {},
   "outputs": [],
   "source": []
  }
 ],
 "metadata": {
  "kernelspec": {
   "display_name": "Python 3 (ipykernel)",
   "language": "python",
   "name": "python3"
  },
  "language_info": {
   "codemirror_mode": {
    "name": "ipython",
    "version": 3
   },
   "file_extension": ".py",
   "mimetype": "text/x-python",
   "name": "python",
   "nbconvert_exporter": "python",
   "pygments_lexer": "ipython3",
   "version": "3.10.6"
  },
  "metadata": {
   "interpreter": {
    "hash": "73182083f4e2a7a153b1c22bd64054bec714030b17650bd3a885c40287b848ca"
   }
  }
 },
 "nbformat": 4,
 "nbformat_minor": 4
}
