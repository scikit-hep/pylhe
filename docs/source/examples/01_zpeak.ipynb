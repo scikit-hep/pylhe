{
 "cells": [
  {
   "cell_type": "markdown",
   "metadata": {},
   "source": [
    "# Z peak example"
   ]
  },
  {
   "cell_type": "markdown",
   "metadata": {},
   "source": [
    "We will plot a invariant mass distribution from a LHE input file.\n",
    "\n",
    "First, some basic imports."
   ]
  },
  {
   "cell_type": "code",
   "execution_count": 1,
   "metadata": {
    "collapsed": false,
    "jupyter": {
     "outputs_hidden": false
    }
   },
   "outputs": [],
   "source": [
    "import hist\n",
    "\n",
    "import pylhe"
   ]
  },
  {
   "cell_type": "code",
   "execution_count": 2,
   "metadata": {
    "collapsed": false,
    "jupyter": {
     "outputs_hidden": false
    }
   },
   "outputs": [],
   "source": [
    "# Use an example LHE file from package scikit-hep-testdata\n",
    "from skhep_testdata import data_path\n",
    "\n",
    "lhe_file = data_path(\"pylhe-drell-yan-ll-lhe.gz\")"
   ]
  },
  {
   "cell_type": "markdown",
   "metadata": {},
   "source": [
    "Prepare a histogram to calculate the invariant mass of two particles."
   ]
  },
  {
   "cell_type": "code",
   "execution_count": 3,
   "metadata": {
    "collapsed": false,
    "jupyter": {
     "outputs_hidden": false
    }
   },
   "outputs": [],
   "source": [
    "mass_hist = hist.Hist.new.Reg(30, 50, 150).Int64()"
   ]
  },
  {
   "cell_type": "markdown",
   "metadata": {},
   "source": [
    "Use the generator provided by pylhe to read the events."
   ]
  },
  {
   "cell_type": "code",
   "execution_count": 4,
   "metadata": {
    "collapsed": false,
    "jupyter": {
     "outputs_hidden": false
    }
   },
   "outputs": [
    {
     "data": {
      "text/html": [
       "<html>\n",
       "<div style=\"display:flex; align-items:center;\">\n",
       "<div style=\"width:290px;\">\n",
       "<svg xmlns=\"http://www.w3.org/2000/svg\" viewBox=\"-10 -105 270 120\">\n",
       "<line x1=\"-5\" y1=\"0\" x2=\"255\" y2=\"0\" style=\"fill:none;stroke-width:2;stroke:currentColor\"/>\n",
       "<text text-anchor=\"middle\" x=\"0\" y=\"15\" style=\"fill:currentColor;\">\n",
       "50\n",
       "</text>\n",
       "<text text-anchor=\"middle\" x=\"250\" y=\"15\" style=\"fill:currentColor;\">\n",
       "150\n",
       "</text>\n",
       "<text text-anchor=\"middle\" x=\"125.0\" y=\"15\" style=\"fill:currentColor;\">\n",
       "Axis 0\n",
       "</text>\n",
       "<polyline points=\"  0,0   0,-1.61 8.33333,-1.61 8.33333,-1.22 16.6667,-1.22 16.6667,-1.27  25,-1.27  25,-1.13 33.3333,-1.13 33.3333,-0.851 41.6667,-0.851 41.6667,-1.04  50,-1.04  50,-1.06 58.3333,-1.06 58.3333,-1.43 66.6667,-1.43 66.6667,-1.96  75,-1.96  75,-3.22 83.3333,-3.22 83.3333,-6.6 91.6667,-6.6 91.6667,-30.7 100,-30.7 100,-100 108.333,-100 108.333,-17.3 116.667,-17.3 116.667,-4.16 125,-4.16 125,-2.53 133.333,-2.53 133.333,-1.1 141.667,-1.1 141.667,-0.989 150,-0.989 150,-0.46 158.333,-0.46 158.333,-0.529 166.667,-0.529 166.667,-0.345 175,-0.345 175,-0.299 183.333,-0.299 183.333,-0.184 191.667,-0.184 191.667,-0.276 200,-0.276 200,-0.115 208.333,-0.115 208.333,-0.115 216.667,-0.115 216.667,-0.184 225,-0.184 225,-0.092 233.333,-0.092 233.333,-0.069 241.667,-0.069 241.667,-0.046 250,-0.046 250,0\" style=\"fill:none; stroke:currentColor;\"/>\n",
       "</svg>\n",
       "</div>\n",
       "<div style=\"flex=grow:1;\">\n",
       "Regular(30, 50, 150, label='Axis 0')<br/>\n",
       "<hr style=\"margin-top:.2em; margin-bottom:.2em;\"/>\n",
       "Int64() Σ=13189080.0 <em>(16780000.0 with flow)</em>\n",
       "\n",
       "</div>\n",
       "</div>\n",
       "</html>"
      ],
      "text/plain": [
       "Hist(Regular(30, 50, 150, label='Axis 0'), storage=Int64()) # Sum: 13189080.0 (16780000.0 with flow)"
      ]
     },
     "execution_count": 4,
     "metadata": {},
     "output_type": "execute_result"
    }
   ],
   "source": [
    "events = pylhe.to_awkward(pylhe.read_lhe_with_attributes(lhe_file))\n",
    "mass_hist.fill(\n",
    "    (events.particles.vector[:, -1] + events.particles.vector[:, -2]).mass,\n",
    "    weight=events.eventinfo.weight,\n",
    ")"
   ]
  },
  {
   "cell_type": "code",
   "execution_count": 5,
   "metadata": {
    "collapsed": false,
    "jupyter": {
     "outputs_hidden": false
    }
   },
   "outputs": [
    {
     "data": {
      "image/png": "[encoded data removed]",
      "text/plain": [
       "<Figure size 640x480 with 1 Axes>"
      ]
     },
     "metadata": {},
     "output_type": "display_data"
    }
   ],
   "source": [
    "artists = mass_hist.plot1d()\n",
    "ax = artists[0].stairs.axes\n",
    "ax.set_yscale(\"log\")\n",
    "ax.set_xlabel(\"Mass [GeV]\")\n",
    "ax.set_ylabel(\"Count\");"
   ]
  },
  {
   "cell_type": "markdown",
   "metadata": {},
   "source": [
    "`pylhe` also has helpful graph representation of events so you can view what the LHE events you are studying look like."
   ]
  },
  {
   "cell_type": "code",
   "execution_count": 6,
   "metadata": {
    "collapsed": false,
    "jupyter": {
     "outputs_hidden": false
    }
   },
   "outputs": [
    {
     "data": {
      "image/svg+xml": [
       "<?xml version=\"1.0\" encoding=\"UTF-8\" standalone=\"no\"?>\n",
       "<!DOCTYPE svg PUBLIC \"-//W3C//DTD SVG 1.1//EN\"\n",
       " \"http://www.w3.org/Graphics/SVG/1.1/DTD/svg11.dtd\">\n",
       "<!-- Generated by graphviz version 12.2.1 (20241206.2353)\n",
       " -->\n",
       "<!-- Pages: 1 -->\n",
       "<svg width=\"134pt\" height=\"125pt\"\n",
       " viewBox=\"0.00 0.00 134.00 124.61\" xmlns=\"http://www.w3.org/2000/svg\" xmlns:xlink=\"http://www.w3.org/1999/xlink\">\n",
       "<g id=\"graph0\" class=\"graph\" transform=\"scale(1 1) rotate(0) translate(4 120.61)\">\n",
       "<polygon fill=\"white\" stroke=\"none\" points=\"-4,4 -4,-120.61 130,-120.61 130,4 -4,4\"/>\n",
       "<!-- 0 -->\n",
       "<g id=\"node1\" class=\"node\">\n",
       "<title>0</title>\n",
       "<ellipse fill=\"none\" stroke=\"black\" cx=\"27\" cy=\"-96.46\" rx=\"27\" ry=\"20.15\"/>\n",
       "<text text-anchor=\"start\" x=\"23.62\" y=\"-91.41\" font-family=\"Times,serif\" font-size=\"14.00\">u</text>\n",
       "</g>\n",
       "<!-- 2 -->\n",
       "<g id=\"node3\" class=\"node\">\n",
       "<title>2</title>\n",
       "<ellipse fill=\"none\" stroke=\"black\" cx=\"27\" cy=\"-20.15\" rx=\"27\" ry=\"20.15\"/>\n",
       "<text text-anchor=\"start\" x=\"20.62\" y=\"-16.1\" font-family=\"Times,serif\" font-size=\"14.00\">e</text>\n",
       "<text text-anchor=\"start\" x=\"26.62\" y=\"-16.1\" font-family=\"Times,serif\" baseline-shift=\"super\" font-size=\"14.00\">+</text>\n",
       "</g>\n",
       "<!-- 0&#45;&gt;2 -->\n",
       "<g id=\"edge1\" class=\"edge\">\n",
       "<title>0&#45;&gt;2</title>\n",
       "<path fill=\"none\" stroke=\"black\" d=\"M27,-75.93C27,-68.65 27,-60.2 27,-52.14\"/>\n",
       "<polygon fill=\"black\" stroke=\"black\" points=\"30.5,-52.32 27,-42.32 23.5,-52.32 30.5,-52.32\"/>\n",
       "</g>\n",
       "<!-- 3 -->\n",
       "<g id=\"node4\" class=\"node\">\n",
       "<title>3</title>\n",
       "<ellipse fill=\"none\" stroke=\"black\" cx=\"99\" cy=\"-20.15\" rx=\"27\" ry=\"20.15\"/>\n",
       "<text text-anchor=\"start\" x=\"94.12\" y=\"-16.1\" font-family=\"Times,serif\" font-size=\"14.00\">e</text>\n",
       "<text text-anchor=\"start\" x=\"100.12\" y=\"-16.1\" font-family=\"Times,serif\" baseline-shift=\"super\" font-size=\"14.00\">&#45;</text>\n",
       "</g>\n",
       "<!-- 0&#45;&gt;3 -->\n",
       "<g id=\"edge3\" class=\"edge\">\n",
       "<title>0&#45;&gt;3</title>\n",
       "<path fill=\"none\" stroke=\"black\" d=\"M42.27,-79.7C51.94,-69.72 64.64,-56.61 75.57,-45.33\"/>\n",
       "<polygon fill=\"black\" stroke=\"black\" points=\"78.01,-47.85 82.45,-38.23 72.98,-42.98 78.01,-47.85\"/>\n",
       "</g>\n",
       "<!-- 1 -->\n",
       "<g id=\"node2\" class=\"node\">\n",
       "<title>1</title>\n",
       "<ellipse fill=\"none\" stroke=\"black\" cx=\"99\" cy=\"-96.46\" rx=\"27\" ry=\"20.15\"/>\n",
       "<text text-anchor=\"start\" x=\"95.62\" y=\"-91.41\" font-family=\"Times,serif\" font-size=\"14.00\">u̅</text>\n",
       "</g>\n",
       "<!-- 1&#45;&gt;2 -->\n",
       "<g id=\"edge2\" class=\"edge\">\n",
       "<title>1&#45;&gt;2</title>\n",
       "<path fill=\"none\" stroke=\"black\" d=\"M83.73,-79.7C74.06,-69.72 61.36,-56.61 50.43,-45.33\"/>\n",
       "<polygon fill=\"black\" stroke=\"black\" points=\"53.02,-42.98 43.55,-38.23 47.99,-47.85 53.02,-42.98\"/>\n",
       "</g>\n",
       "<!-- 1&#45;&gt;3 -->\n",
       "<g id=\"edge4\" class=\"edge\">\n",
       "<title>1&#45;&gt;3</title>\n",
       "<path fill=\"none\" stroke=\"black\" d=\"M99,-75.93C99,-68.65 99,-60.2 99,-52.14\"/>\n",
       "<polygon fill=\"black\" stroke=\"black\" points=\"102.5,-52.32 99,-42.32 95.5,-52.32 102.5,-52.32\"/>\n",
       "</g>\n",
       "</g>\n",
       "</svg>\n"
      ],
      "text/plain": [
       "LHEEvent(eventinfo=LHEEventInfo(nparticles=4, pid=1, weight=1678.21, scale=89.36838, aqed=0.007546771, aqcd=0.1304388), particles=[LHEParticle(id=2, status=-1, mother1=0, mother2=0, color1=501, color2=0, px=0.0, py=0.0, pz=74.318030872, e=74.318030872, m=0.0, lifetime=0.0, spin=-1.0), LHEParticle(id=-2, status=-1, mother1=0, mother2=0, color1=0, color2=501, px=-0.0, py=-0.0, pz=-26.86665594, e=26.86665594, m=0.0, lifetime=0.0, spin=1.0), LHEParticle(id=-11, status=1, mother1=1, mother2=2, color1=0, color2=0, px=-6.9396665975, py=27.744220552, pz=-15.147179771, e=32.362598807, m=0.0, lifetime=0.0, spin=1.0), LHEParticle(id=11, status=1, mother1=1, mother2=2, color1=0, color2=0, px=6.9396665975, py=-27.744220552, pz=62.598554703, e=68.822088005, m=0.0, lifetime=0.0, spin=-1.0)], weights=None, attributes=None, optional=None, _graph=<graphviz.graphs.Digraph object at 0x7fad070ccd70>)"
      ]
     },
     "execution_count": 6,
     "metadata": {},
     "output_type": "execute_result"
    }
   ],
   "source": [
    "events = pylhe.read_lhe(lhe_file)\n",
    "this_event = next(events)\n",
    "this_event"
   ]
  },
  {
   "cell_type": "code",
   "execution_count": 7,
   "metadata": {
    "collapsed": false,
    "jupyter": {
     "outputs_hidden": false
    }
   },
   "outputs": [
    {
     "data": {
      "image/svg+xml": [
       "<?xml version=\"1.0\" encoding=\"UTF-8\" standalone=\"no\"?>\n",
       "<!DOCTYPE svg PUBLIC \"-//W3C//DTD SVG 1.1//EN\"\n",
       " \"http://www.w3.org/Graphics/SVG/1.1/DTD/svg11.dtd\">\n",
       "<!-- Generated by graphviz version 12.2.1 (20241206.2353)\n",
       " -->\n",
       "<!-- Pages: 1 -->\n",
       "<svg width=\"134pt\" height=\"201pt\"\n",
       " viewBox=\"0.00 0.00 134.00 200.92\" xmlns=\"http://www.w3.org/2000/svg\" xmlns:xlink=\"http://www.w3.org/1999/xlink\">\n",
       "<g id=\"graph0\" class=\"graph\" transform=\"scale(1 1) rotate(0) translate(4 196.92)\">\n",
       "<polygon fill=\"white\" stroke=\"none\" points=\"-4,4 -4,-196.92 130,-196.92 130,4 -4,4\"/>\n",
       "<!-- 0 -->\n",
       "<g id=\"node1\" class=\"node\">\n",
       "<title>0</title>\n",
       "<ellipse fill=\"none\" stroke=\"black\" cx=\"27\" cy=\"-172.76\" rx=\"27\" ry=\"20.15\"/>\n",
       "<text text-anchor=\"start\" x=\"23.62\" y=\"-167.71\" font-family=\"Times,serif\" font-size=\"14.00\">u</text>\n",
       "</g>\n",
       "<!-- 2 -->\n",
       "<g id=\"node3\" class=\"node\">\n",
       "<title>2</title>\n",
       "<ellipse fill=\"none\" stroke=\"black\" cx=\"63\" cy=\"-96.46\" rx=\"27\" ry=\"20.15\"/>\n",
       "<text text-anchor=\"start\" x=\"55.88\" y=\"-92.41\" font-family=\"Times,serif\" font-size=\"14.00\">Z</text>\n",
       "<text text-anchor=\"start\" x=\"64.12\" y=\"-92.41\" font-family=\"Times,serif\" baseline-shift=\"super\" font-size=\"14.00\">0</text>\n",
       "</g>\n",
       "<!-- 0&#45;&gt;2 -->\n",
       "<g id=\"edge1\" class=\"edge\">\n",
       "<title>0&#45;&gt;2</title>\n",
       "<path fill=\"none\" stroke=\"black\" d=\"M35.9,-153.4C39.88,-145.18 44.67,-135.3 49.1,-126.14\"/>\n",
       "<polygon fill=\"black\" stroke=\"black\" points=\"52.21,-127.76 53.42,-117.23 45.91,-124.71 52.21,-127.76\"/>\n",
       "</g>\n",
       "<!-- 1 -->\n",
       "<g id=\"node2\" class=\"node\">\n",
       "<title>1</title>\n",
       "<ellipse fill=\"none\" stroke=\"black\" cx=\"99\" cy=\"-172.76\" rx=\"27\" ry=\"20.15\"/>\n",
       "<text text-anchor=\"start\" x=\"95.62\" y=\"-167.71\" font-family=\"Times,serif\" font-size=\"14.00\">u̅</text>\n",
       "</g>\n",
       "<!-- 1&#45;&gt;2 -->\n",
       "<g id=\"edge2\" class=\"edge\">\n",
       "<title>1&#45;&gt;2</title>\n",
       "<path fill=\"none\" stroke=\"black\" d=\"M90.1,-153.4C86.12,-145.18 81.33,-135.3 76.9,-126.14\"/>\n",
       "<polygon fill=\"black\" stroke=\"black\" points=\"80.09,-124.71 72.58,-117.23 73.79,-127.76 80.09,-124.71\"/>\n",
       "</g>\n",
       "<!-- 3 -->\n",
       "<g id=\"node4\" class=\"node\">\n",
       "<title>3</title>\n",
       "<ellipse fill=\"none\" stroke=\"black\" cx=\"27\" cy=\"-20.15\" rx=\"27\" ry=\"20.15\"/>\n",
       "<text text-anchor=\"start\" x=\"19.88\" y=\"-16.1\" font-family=\"Times,serif\" font-size=\"14.00\">μ</text>\n",
       "<text text-anchor=\"start\" x=\"27.38\" y=\"-16.1\" font-family=\"Times,serif\" baseline-shift=\"super\" font-size=\"14.00\">+</text>\n",
       "</g>\n",
       "<!-- 2&#45;&gt;3 -->\n",
       "<g id=\"edge3\" class=\"edge\">\n",
       "<title>2&#45;&gt;3</title>\n",
       "<path fill=\"none\" stroke=\"black\" d=\"M49.29,-78.97C44.36,-70.7 39.09,-60.44 34.77,-50.87\"/>\n",
       "<polygon fill=\"black\" stroke=\"black\" points=\"38.08,-49.72 30.95,-41.88 31.64,-52.46 38.08,-49.72\"/>\n",
       "</g>\n",
       "<!-- 2&#45;&gt;3 -->\n",
       "<g id=\"edge4\" class=\"edge\">\n",
       "<title>2&#45;&gt;3</title>\n",
       "<path fill=\"none\" stroke=\"black\" d=\"M59.72,-76.32C56.33,-67.7 51.5,-57.37 46.52,-47.99\"/>\n",
       "<polygon fill=\"black\" stroke=\"black\" points=\"49.57,-46.28 41.63,-39.27 43.46,-49.7 49.57,-46.28\"/>\n",
       "</g>\n",
       "<!-- 4 -->\n",
       "<g id=\"node5\" class=\"node\">\n",
       "<title>4</title>\n",
       "<ellipse fill=\"none\" stroke=\"black\" cx=\"99\" cy=\"-20.15\" rx=\"27\" ry=\"20.15\"/>\n",
       "<text text-anchor=\"start\" x=\"93.38\" y=\"-16.1\" font-family=\"Times,serif\" font-size=\"14.00\">μ</text>\n",
       "<text text-anchor=\"start\" x=\"100.88\" y=\"-16.1\" font-family=\"Times,serif\" baseline-shift=\"super\" font-size=\"14.00\">&#45;</text>\n",
       "</g>\n",
       "<!-- 2&#45;&gt;4 -->\n",
       "<g id=\"edge5\" class=\"edge\">\n",
       "<title>2&#45;&gt;4</title>\n",
       "<path fill=\"none\" stroke=\"black\" d=\"M66.28,-76.32C69.67,-67.7 74.5,-57.37 79.48,-47.99\"/>\n",
       "<polygon fill=\"black\" stroke=\"black\" points=\"82.54,-49.7 84.37,-39.27 76.43,-46.28 82.54,-49.7\"/>\n",
       "</g>\n",
       "<!-- 2&#45;&gt;4 -->\n",
       "<g id=\"edge6\" class=\"edge\">\n",
       "<title>2&#45;&gt;4</title>\n",
       "<path fill=\"none\" stroke=\"black\" d=\"M76.71,-78.97C81.64,-70.7 86.91,-60.44 91.23,-50.87\"/>\n",
       "<polygon fill=\"black\" stroke=\"black\" points=\"94.36,-52.46 95.05,-41.88 87.92,-49.72 94.36,-52.46\"/>\n",
       "</g>\n",
       "</g>\n",
       "</svg>\n"
      ],
      "text/plain": [
       "LHEEvent(eventinfo=LHEEventInfo(nparticles=5, pid=1, weight=1678.21, scale=91.67326, aqed=0.007546771, aqcd=0.129885), particles=[LHEParticle(id=2, status=-1, mother1=0, mother2=0, color1=501, color2=0, px=0.0, py=0.0, pz=225.28790807, e=225.28790807, m=0.0, lifetime=0.0, spin=-1.0), LHEParticle(id=-2, status=-1, mother1=0, mother2=0, color1=0, color2=501, px=-0.0, py=-0.0, pz=-9.3258299877, e=9.3258299877, m=0.0, lifetime=0.0, spin=1.0), LHEParticle(id=23, status=2, mother1=1, mother2=2, color1=0, color2=0, px=0.0, py=0.0, pz=215.96207808, e=234.61373806, m=91.673261728, lifetime=0.0, spin=0.0), LHEParticle(id=-13, status=1, mother1=3, mother2=3, color1=0, color2=0, px=-32.117860394, py=-4.61084611, pz=25.124142411, e=41.037048993, m=0.0, lifetime=0.0, spin=1.0), LHEParticle(id=13, status=1, mother1=3, mother2=3, color1=0, color2=0, px=32.117860394, py=4.61084611, pz=190.83793567, e=193.57668907, m=0.0, lifetime=0.0, spin=-1.0)], weights=None, attributes=None, optional=None, _graph=<graphviz.graphs.Digraph object at 0x7fad05803890>)"
      ]
     },
     "execution_count": 7,
     "metadata": {},
     "output_type": "execute_result"
    }
   ],
   "source": [
    "this_event = next(events)\n",
    "this_event"
   ]
  },
  {
   "cell_type": "markdown",
   "metadata": {},
   "source": [
    "You can also render these graphs into a PDF file."
   ]
  },
  {
   "cell_type": "code",
   "execution_count": 8,
   "metadata": {
    "tags": []
   },
   "outputs": [
    {
     "data": {
      "text/plain": [
       "'z0-event.pdf'"
      ]
     },
     "execution_count": 8,
     "metadata": {},
     "output_type": "execute_result"
    }
   ],
   "source": [
    "this_event.graph.render(filename=\"z0-event\", format=\"pdf\", cleanup=True)"
   ]
  },
  {
   "cell_type": "code",
   "execution_count": 10,
   "metadata": {},
   "outputs": [
    {
     "name": "stdout",
     "output_type": "stream",
     "text": [
      "LHEEvent(eventinfo=LHEEventInfo(nparticles=5, pid=1, weight=1678.21, scale=91.67326, aqed=0.007546771, aqcd=0.129885), particles=[LHEParticle(id=2, status=-1, mother1=0, mother2=0, color1=501, color2=0, px=0.0, py=0.0, pz=225.28790807, e=225.28790807, m=0.0, lifetime=0.0, spin=-1.0), LHEParticle(id=-2, status=-1, mother1=0, mother2=0, color1=0, color2=501, px=-0.0, py=-0.0, pz=-9.3258299877, e=9.3258299877, m=0.0, lifetime=0.0, spin=1.0), LHEParticle(id=23, status=2, mother1=1, mother2=2, color1=0, color2=0, px=0.0, py=0.0, pz=215.96207808, e=234.61373806, m=91.673261728, lifetime=0.0, spin=0.0), LHEParticle(id=-13, status=1, mother1=3, mother2=3, color1=0, color2=0, px=-32.117860394, py=-4.61084611, pz=25.124142411, e=41.037048993, m=0.0, lifetime=0.0, spin=1.0), LHEParticle(id=13, status=1, mother1=3, mother2=3, color1=0, color2=0, px=32.117860394, py=4.61084611, pz=190.83793567, e=193.57668907, m=0.0, lifetime=0.0, spin=-1.0)], weights=None, attributes=None, optional=None, _graph=<graphviz.graphs.Digraph object at 0x7fad05803890>)\n"
     ]
    }
   ],
   "source": [
    "print(this_event)"
   ]
  },
  {
   "cell_type": "code",
   "execution_count": null,
   "metadata": {},
   "outputs": [],
   "source": []
  }
 ],
 "metadata": {
  "kernelspec": {
   "display_name": "Python 3",
   "language": "python",
   "name": "python3"
  },
  "language_info": {
   "codemirror_mode": {
    "name": "ipython",
    "version": 3
   },
   "file_extension": ".py",
   "mimetype": "text/x-python",
   "name": "python",
   "nbconvert_exporter": "python",
   "pygments_lexer": "ipython3",
   "version": "3.13.5"
  },
  "metadata": {
   "interpreter": {
    "hash": "73182083f4e2a7a153b1c22bd64054bec714030b17650bd3a885c40287b848ca"
   }
  }
 },
 "nbformat": 4,
 "nbformat_minor": 4
}
