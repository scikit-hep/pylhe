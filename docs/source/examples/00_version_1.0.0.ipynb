{
 "cells": [
  {
   "cell_type": "markdown",
   "id": "d003df19-502d-42b2-94d6-fa9d909452ff",
   "metadata": {},
   "source": [
    "# PyLHE Version 1.0.0 / Demo / Tutorial"
   ]
  },
  {
   "cell_type": "code",
   "execution_count": null,
   "id": "eef7e206-323c-45b5-824b-549e82edea9e",
   "metadata": {},
   "outputs": [],
   "source": []
  },
  {
   "cell_type": "markdown",
   "id": "de6ae27d-8f82-47bf-b05e-6ac43d4b0e39",
   "metadata": {},
   "source": [
    "## Further interactive examples to explore\n",
    "\n",
    "- [Analyze LHE file and plot `hist`-ograms →](01_zpeak.ipynb)\n",
    "- [Filter LHE events based on kinematic cuts →](02_filter_events_example.ipynb)\n",
    "- [Simple Monte Carlo LHE event generator →](03_write_monte_carlo_example.ipynb)\n",
    "- [Conversion/interface to `awkward` arrays →](91_awkward_example.ipynb)\n",
    "- [Parallel processing of LHE files →](92_multiple_files.ipynb)\n",
    "- [Parquet Cache →](93_parquet_cache.ipynb)"
   ]
  },
  {
   "cell_type": "markdown",
   "id": "6fbf43b5",
   "metadata": {},
   "source": []
  }
 ],
 "metadata": {
  "kernelspec": {
   "display_name": "Python 3 (ipykernel)",
   "language": "python",
   "name": "python3"
  },
  "language_info": {
   "codemirror_mode": {
    "name": "ipython",
    "version": 3
   },
   "file_extension": ".py",
   "mimetype": "text/x-python",
   "name": "python",
   "nbconvert_exporter": "python",
   "pygments_lexer": "ipython3",
   "version": "3.13.5"
  }
 },
 "nbformat": 4,
 "nbformat_minor": 5
}
