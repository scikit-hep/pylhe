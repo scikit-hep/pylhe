{
 "cells": [
  {
   "cell_type": "markdown",
   "id": "d003df19-502d-42b2-94d6-fa9d909452ff",
   "metadata": {},
   "source": [
    "# PyLHE Version 1.0.0 / Demo / Tutorial"
   ]
  },
  {
   "cell_type": "code",
   "execution_count": null,
   "id": "eef7e206-323c-45b5-824b-549e82edea9e",
   "metadata": {},
   "outputs": [],
   "source": []
  }
 ],
 "metadata": {
  "kernelspec": {
   "display_name": "Python 3 (ipykernel)",
   "language": "python",
   "name": "python3"
  },
  "language_info": {
   "codemirror_mode": {
    "name": "ipython",
    "version": 3
   },
   "file_extension": ".py",
   "mimetype": "text/x-python",
   "name": "python",
   "nbconvert_exporter": "python",
   "pygments_lexer": "ipython3",
   "version": "3.13.5"
  }
 },
 "nbformat": 4,
 "nbformat_minor": 5
}
