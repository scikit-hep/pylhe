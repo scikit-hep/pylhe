{
 "cells": [
  {
   "cell_type": "markdown",
   "id": "d003df19-502d-42b2-94d6-fa9d909452ff",
   "metadata": {},
   "source": [
    "# PyLHE Version 1.0.0 / Demo / Tutorial"
   ]
  },
  {
   "cell_type": "markdown",
   "id": "5f29ceda",
   "metadata": {},
   "source": [
    "## The LHE File Format\n",
    "\n",
    "The Les Houches Event (LHE) format is a standardized way to describe events generated in high-energy physics simulations. It is widely used in the context of Monte Carlo event generators and is designed to facilitate the exchange of event information between different software packages.\n",
    "\n",
    "### Key Features\n",
    "\n",
    "- **XML-Based**: The LHE format is based on XML, which makes it both human-readable and machine-readable.\n",
    "- **Event Structure**: Each LHE file contains a series of events, each described by a set of particles and their properties.\n",
    "- **Compatibility**: The LHE format is compatible with various analysis tools and frameworks, making it a popular choice for event generation and simulation.\n",
    "\n",
    "### Basic Structure\n",
    "\n",
    "An LHE file typically consists of the following main components:\n",
    "\n",
    "1. **Header**: Contains metadata about the file, such as the version and generator information.\n",
    "2. **Initialization Block**: Describes the initial state of the event, including the incoming particles and their properties.\n",
    "3. **Event Blocks**: Each event is described in its own block, detailing the final state particles and their properties.\n",
    "4. **Weights Block**: Optional block that provides additional information about the event weights, if applicable.\n",
    "\n",
    "```xml\n",
    "<LesHouchesEvents version=\"1.0\">\n",
    "<init>\n",
    "beam1id beam2id beam1energy beam2energy pdfg1 pdfg2 pdfs1 pdfs2 idweight nproc\n",
    "crosssection crosssectionerror crosssectionmaximum pid\n",
    "...\n",
    "</init>\n",
    "<event>\n",
    "nparticles pid weight scale aqed aqcd\n",
    "id status mother1 mother2 color1 color2 px py pz E m lifetime spin\n",
    "...\n",
    "</event>\n",
    "...\n",
    "</LesHouchesEvents>\n",
    "```\n",
    "\n",
    "### Example\n",
    "\n",
    "Here is a simple example of an LHE file structure:\n",
    "\n",
    "```xml\n",
    "<LesHouchesEvents version=\"1.0\">\n",
    "<header></header>\n",
    "<init>\n",
    "11 -11 100.0 100.0 0 0 0 0 3 1\n",
    "3.783590 0.001676 0.001569 0\n",
    "</init>\n",
    "<event>\n",
    "6 0 3.783590e-06 200 0.007849 0.1075\n",
    "11 -1 0 0 0 0 0 0 100.0 100.0 0 0 9.0\n",
    "-11 -1 0 0 0 0 0 0 -100.0 100.0 0 0 9.0\n",
    "22 2 1 2 0 0 0 0 0 200 200 0 9.0\n",
    "2 1 3 0 0 0 48.253308 67.445271 -54.164510 99.050697 0 0 9.0\n",
    "21 1 3 0 0 0 -1.190913 -12.743630 5.613176 13.975913 0 0 9.0\n",
    "-2 1 3 0 0 0 -47.062395 -54.701640 48.551333 86.973389 0 0 9.0\n",
    "</event>\n",
    "...\n",
    "</LesHouchesEvents>\n",
    "\n",
    "```\n",
    "\n",
    "In this example, the LHE file describes a single event with one incoming parton and one outgoing particle. The momentum of the particle is specified in the event block.\n",
    "\n",
    "### Conclusion\n",
    "\n",
    "The LHE file format is a powerful tool for describing high-energy physics events. Its XML-based structure allows for easy integration with various analysis frameworks, making it a popular choice among researchers and practitioners in the field."
   ]
  },
  {
   "cell_type": "markdown",
   "id": "de6ae27d-8f82-47bf-b05e-6ac43d4b0e39",
   "metadata": {},
   "source": [
    "## Further interactive examples to explore\n",
    "\n",
    "- [Analyze LHE file and plot `hist`-ograms →](01_zpeak.ipynb)\n",
    "- [Filter LHE events based on kinematic cuts →](02_filter_events_example.ipynb)\n",
    "- [Simple Monte Carlo LHE event generator →](03_write_monte_carlo_example.ipynb)\n",
    "- [Conversion/interface to `awkward` arrays →](91_awkward_example.ipynb)\n",
    "- [Parallel processing of LHE files →](92_multiple_files.ipynb)\n",
    "- [Parquet Cache →](93_parquet_cache.ipynb)"
   ]
  },
  {
   "cell_type": "markdown",
   "id": "6fbf43b5",
   "metadata": {},
   "source": []
  }
 ],
 "metadata": {
  "kernelspec": {
   "display_name": "Python 3 (ipykernel)",
   "language": "python",
   "name": "python3"
  },
  "language_info": {
   "codemirror_mode": {
    "name": "ipython",
    "version": 3
   },
   "file_extension": ".py",
   "mimetype": "text/x-python",
   "name": "python",
   "nbconvert_exporter": "python",
   "pygments_lexer": "ipython3",
   "version": "3.13.5"
  }
 },
 "nbformat": 4,
 "nbformat_minor": 5
}
